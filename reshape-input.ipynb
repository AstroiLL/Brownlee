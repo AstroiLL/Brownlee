{
 "cells": [
  {
   "cell_type": "markdown",
   "id": "6d339853-3b47-4d86-9b39-57ffa625e983",
   "metadata": {},
   "source": [
    "https://machinelearningmastery.com/reshape-input-data-long-short-term-memory-networks-keras/"
   ]
  },
  {
   "cell_type": "markdown",
   "id": "bcdddd93-6a2c-470d-b402-1f137a2608b4",
   "metadata": {},
   "source": [
    "# Как изменить форму входных данных для сетей с долгосрочной краткосрочной памятью в Keras"
   ]
  },
  {
   "cell_type": "markdown",
   "id": "7ed7f8a5-641f-46da-9c59-b8e81080261e",
   "metadata": {},
   "source": [
    "## Пример LSTM с одним входным образцом"
   ]
  },
  {
   "cell_type": "raw",
   "id": "54e3c0df-4318-4d08-a04b-f63a9792e29e",
   "metadata": {},
   "source": [
    "0.1, 0.2, 0.3, 0.4, 0.5, 0.6, 0.7, 0.8, 0.9, 1.0"
   ]
  },
  {
   "cell_type": "code",
   "execution_count": 1,
   "id": "bef8616e-6a3b-49b7-be20-c24d8e38259b",
   "metadata": {},
   "outputs": [],
   "source": [
    "from numpy import array\n",
    "data = array([0.1, 0.2, 0.3, 0.4, 0.5, 0.6, 0.7, 0.8, 0.9, 1.0])"
   ]
  },
  {
   "cell_type": "code",
   "execution_count": 2,
   "id": "ed1dbe41-38ef-4d70-830f-8d936215ac1e",
   "metadata": {},
   "outputs": [],
   "source": [
    "data = data.reshape((1, 10, 1))"
   ]
  },
  {
   "cell_type": "code",
   "execution_count": 3,
   "id": "e9b1c2ab-d18b-43eb-bc14-7c8411160867",
   "metadata": {},
   "outputs": [
    {
     "name": "stdout",
     "output_type": "stream",
     "text": [
      "(1, 10, 1)\n"
     ]
    }
   ],
   "source": [
    "print(data.shape)"
   ]
  },
  {
   "cell_type": "code",
   "execution_count": null,
   "id": "8eecf731-2724-43e5-8e82-5aa119d2e821",
   "metadata": {},
   "outputs": [],
   "source": [
    "model = Sequential()\n",
    "model.add(LSTM(32, input_shape=(10, 1)))\n",
    "model.add(Dense(1))"
   ]
  },
  {
   "cell_type": "markdown",
   "id": "0ddd6b37-e163-4b39-a68e-8d2f0a7718d4",
   "metadata": {},
   "source": [
    "## Пример LSTM с несколькими входными функциями"
   ]
  },
  {
   "cell_type": "raw",
   "id": "b53f8fef-fbbb-4094-912d-037d2780f97a",
   "metadata": {},
   "source": [
    "series 1: 0.1, 0.2, 0.3, 0.4, 0.5, 0.6, 0.7, 0.8, 0.9, 1.0\n",
    "series 2: 1.0, 0.9, 0.8, 0.7, 0.6, 0.5, 0.4, 0.3, 0.2, 0.1"
   ]
  },
  {
   "cell_type": "code",
   "execution_count": 2,
   "id": "c84373a8-d22e-4779-9af6-c0993f556440",
   "metadata": {},
   "outputs": [
    {
     "name": "stdout",
     "output_type": "stream",
     "text": [
      "(1, 10, 2)\n",
      "[[[0.1 1. ]\n",
      "  [0.2 0.9]\n",
      "  [0.3 0.8]\n",
      "  [0.4 0.7]\n",
      "  [0.5 0.6]\n",
      "  [0.6 0.5]\n",
      "  [0.7 0.4]\n",
      "  [0.8 0.3]\n",
      "  [0.9 0.2]\n",
      "  [1.  0.1]]]\n"
     ]
    }
   ],
   "source": [
    "from numpy import array\n",
    "data = array([\n",
    "\t[0.1, 1.0],\n",
    "\t[0.2, 0.9],\n",
    "\t[0.3, 0.8],\n",
    "\t[0.4, 0.7],\n",
    "\t[0.5, 0.6],\n",
    "\t[0.6, 0.5],\n",
    "\t[0.7, 0.4],\n",
    "\t[0.8, 0.3],\n",
    "\t[0.9, 0.2],\n",
    "\t[1.0, 0.1]])\n",
    "data = data.reshape(1, 10, 2)\n",
    "print(data.shape)\n",
    "print(data)"
   ]
  },
  {
   "cell_type": "code",
   "execution_count": null,
   "id": "fff31593-ac69-40ee-b940-186af369b51f",
   "metadata": {},
   "outputs": [],
   "source": [
    "model = Sequential()\n",
    "model.add(LSTM(32, input_shape=(10, 2)))\n",
    "model.add(Dense(1))"
   ]
  },
  {
   "cell_type": "code",
   "execution_count": null,
   "id": "d1986592-101a-47d4-8289-51dda042bbac",
   "metadata": {},
   "outputs": [],
   "source": []
  }
 ],
 "metadata": {
  "interpreter": {
   "hash": "073425a53dc9f576bec0cf2be1d8aa42855c2ffba435afe8e687f916b6655d7d"
  },
  "kernelspec": {
   "display_name": "Python 3.9.7 64-bit ('ML': conda)",
   "name": "python3"
  },
  "language_info": {
   "codemirror_mode": {
    "name": "ipython",
    "version": 3
   },
   "file_extension": ".py",
   "mimetype": "text/x-python",
   "name": "python",
   "nbconvert_exporter": "python",
   "pygments_lexer": "ipython3",
   "version": "3.9.7"
  }
 },
 "nbformat": 4,
 "nbformat_minor": 5
}
