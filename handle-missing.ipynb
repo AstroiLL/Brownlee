{
 "cells": [
  {
   "cell_type": "markdown",
   "metadata": {},
   "source": [
    "# Как обрабатывать пропущенные временные шаги в задачах прогнозирования последовательности с помощью Python\n",
    "https://machinelearningmastery.com/handle-missing-timesteps-sequence-prediction-problems-python/"
   ]
  },
  {
   "cell_type": "markdown",
   "metadata": {},
   "source": [
    "## Демонстрация проблемы последовательности"
   ]
  },
  {
   "cell_type": "code",
   "execution_count": 1,
   "metadata": {},
   "outputs": [
    {
     "name": "stdout",
     "output_type": "stream",
     "text": [
      "[       nan 0.40531374] => nan\n",
      "[0.40531374 0.02901154] => 0.4053137372794514\n",
      "[0.02901154 0.80863035] => 0.029011540917747936\n",
      "[0.80863035 0.83176467] => 0.8086303509380647\n",
      "[0.83176467 0.45082904] => 0.8317646709920837\n",
      "[0.45082904 0.74522144] => 0.45082903625450355\n",
      "[0.74522144 0.64456485] => 0.7452214369304784\n",
      "[0.64456485 0.59238968] => 0.6445648508186052\n",
      "[0.59238968 0.82743259] => 0.5923896844090002\n",
      "[0.82743259 0.37163253] => 0.8274325915552974\n"
     ]
    }
   ],
   "source": [
    "from random import random\n",
    "from numpy import array\n",
    "from pandas import concat\n",
    "from pandas import DataFrame\n",
    "\n",
    "# generate a sequence of random values\n",
    "def generate_sequence(n_timesteps):\n",
    "\treturn [random() for _ in range(n_timesteps)]\n",
    "\n",
    "# generate data for the lstm\n",
    "def generate_data(n_timesteps):\n",
    "\t# generate sequence\n",
    "\tsequence = generate_sequence(n_timesteps)\n",
    "\tsequence = array(sequence)\n",
    "\t# create lag\n",
    "\tdf = DataFrame(sequence)\n",
    "\tdf = concat([df.shift(1), df], axis=1)\n",
    "\tvalues = df.values\n",
    "\t# specify input and output data\n",
    "\tX, y = values, values[:, 0]\n",
    "\treturn X, y\n",
    "\n",
    "# generate sequence\n",
    "n_timesteps = 10\n",
    "X, y = generate_data(n_timesteps)\n",
    "# print sequence\n",
    "for i in range(n_timesteps):\n",
    "\tprint(X[i], '=>', y[i])"
   ]
  },
  {
   "cell_type": "markdown",
   "metadata": {},
   "source": [
    "## Удалить отсутствующие данные последовательности"
   ]
  },
  {
   "cell_type": "code",
   "execution_count": 2,
   "metadata": {},
   "outputs": [
    {
     "name": "stdout",
     "output_type": "stream",
     "text": [
      "[0.60703897 0.46145566] => 0.6070389652880486\n",
      "[0.46145566 0.66840817] => 0.46145565525111154\n",
      "[0.66840817 0.06200417] => 0.668408166535919\n",
      "[0.06200417 0.63484706] => 0.06200416849407375\n",
      "[0.63484706 0.30086317] => 0.634847059222349\n",
      "[0.30086317 0.98016782] => 0.3008631709157785\n",
      "[0.98016782 0.9905226 ] => 0.9801678207477256\n",
      "[0.9905226  0.07593411] => 0.9905226030519235\n",
      "[0.07593411 0.47941179] => 0.07593410985452864\n"
     ]
    }
   ],
   "source": [
    "from random import random\n",
    "from numpy import array\n",
    "from pandas import concat\n",
    "from pandas import DataFrame\n",
    "\n",
    "# generate a sequence of random values\n",
    "def generate_sequence(n_timesteps):\n",
    "\treturn [random() for _ in range(n_timesteps)]\n",
    "\n",
    "# generate data for the lstm\n",
    "def generate_data(n_timesteps):\n",
    "\t# generate sequence\n",
    "\tsequence = generate_sequence(n_timesteps)\n",
    "\tsequence = array(sequence)\n",
    "\t# create lag\n",
    "\tdf = DataFrame(sequence)\n",
    "\tdf = concat([df.shift(1), df], axis=1)\n",
    "\t# remove rows with missing values\n",
    "\tdf.dropna(inplace=True)\n",
    "\tvalues = df.values\n",
    "\t# specify input and output data\n",
    "\tX, y = values, values[:, 0]\n",
    "\treturn X, y\n",
    "\n",
    "# generate sequence\n",
    "n_timesteps = 10\n",
    "X, y = generate_data(n_timesteps)\n",
    "# print sequence\n",
    "for i in range(len(X)):\n",
    "\tprint(X[i], '=>', y[i])"
   ]
  },
  {
   "cell_type": "markdown",
   "metadata": {},
   "source": [
    "## Заменить отсутствующие данные последовательности"
   ]
  },
  {
   "cell_type": "code",
   "execution_count": 3,
   "metadata": {},
   "outputs": [
    {
     "name": "stdout",
     "output_type": "stream",
     "text": [
      "[-1.          0.35551706] => 0.35551705812576406\n",
      "[0.35551706 0.08252663] => 0.08252663045139808\n",
      "[0.08252663 0.4242715 ] => 0.424271501747155\n",
      "[0.4242715 0.7377109] => 0.73771089867304\n",
      "[0.7377109  0.52284893] => 0.5228489302195808\n",
      "[0.52284893 0.36435033] => 0.36435033403852546\n",
      "[0.36435033 0.02632615] => 0.02632615153395379\n",
      "[0.02632615 0.5680358 ] => 0.5680357977683799\n",
      "[0.5680358  0.85151198] => 0.851511981805571\n",
      "[0.85151198 0.49000946] => 0.49000946238349363\n"
     ]
    }
   ],
   "source": [
    "from random import random\n",
    "from numpy import array\n",
    "from pandas import concat\n",
    "from pandas import DataFrame\n",
    "\n",
    "# generate a sequence of random values\n",
    "def generate_sequence(n_timesteps):\n",
    "\treturn [random() for _ in range(n_timesteps)]\n",
    "\n",
    "# generate data for the lstm\n",
    "def generate_data(n_timesteps):\n",
    "\t# generate sequence\n",
    "\tsequence = generate_sequence(n_timesteps)\n",
    "\tsequence = array(sequence)\n",
    "\t# create lag\n",
    "\tdf = DataFrame(sequence)\n",
    "\tdf = concat([df.shift(1), df], axis=1)\n",
    "\t# replace missing values with -1\n",
    "\tdf.fillna(-1, inplace=True)\n",
    "\tvalues = df.values\n",
    "\t# specify input and output data\n",
    "\tX, y = values, values[:, 1]\n",
    "\treturn X, y\n",
    "\n",
    "# generate sequence\n",
    "n_timesteps = 10\n",
    "X, y = generate_data(n_timesteps)\n",
    "# print sequence\n",
    "for i in range(len(X)):\n",
    "\tprint(X[i], '=>', y[i])"
   ]
  },
  {
   "cell_type": "markdown",
   "metadata": {},
   "source": [
    "## Обучение с отсутствующими значениями последовательности"
   ]
  },
  {
   "cell_type": "markdown",
   "metadata": {},
   "source": [
    "### Изучение недостающих ценностей"
   ]
  },
  {
   "cell_type": "code",
   "execution_count": null,
   "metadata": {},
   "outputs": [],
   "source": [
    "from random import random\n",
    "from numpy import array\n",
    "from pandas import concat\n",
    "from pandas import DataFrame\n",
    "import tensorflow as tf\n",
    "from tf.keras.models import Sequential\n",
    "from tf.keras.layers import LSTM\n",
    "from tf.keras.layers import Dense\n",
    "\n",
    "# generate a sequence of random values\n",
    "def generate_sequence(n_timesteps):\n",
    "\treturn [random() for _ in range(n_timesteps)]\n",
    "\n",
    "# generate data for the lstm\n",
    "def generate_data(n_timesteps):\n",
    "\t# generate sequence\n",
    "\tsequence = generate_sequence(n_timesteps)\n",
    "\tsequence = array(sequence)\n",
    "\t# create lag\n",
    "\tdf = DataFrame(sequence)\n",
    "\tdf = concat([df.shift(1), df], axis=1)\n",
    "\t# replace missing values with -1\n",
    "\tdf.fillna(-1, inplace=True)\n",
    "\tvalues = df.values\n",
    "\t# specify input and output data\n",
    "\tX, y = values, values[:, 1]\n",
    "\t# reshape\n",
    "\tX = X.reshape(len(X), 2, 1)\n",
    "\ty = y.reshape(len(y), 1)\n",
    "\treturn X, y\n",
    "\n",
    "n_timesteps = 10\n",
    "# define model\n",
    "model = Sequential()\n",
    "model.add(LSTM(5, input_shape=(2, 1)))\n",
    "model.add(Dense(1))\n",
    "model.compile(loss='mean_squared_error', optimizer='adam')\n",
    "# fit model\n",
    "for i in range(500):\n",
    "\tX, y = generate_data(n_timesteps)\n",
    "\tmodel.fit(X, y, epochs=1, batch_size=1, verbose=2)\n",
    "# evaluate model on new data\n",
    "X, y = generate_data(n_timesteps)\n",
    "yhat = model.predict(X)\n",
    "for i in range(len(X)):\n",
    "\tprint('Expected', y[i,0], 'Predicted', yhat[i,0])"
   ]
  },
  {
   "cell_type": "markdown",
   "metadata": {},
   "source": [
    "### Маскирование отсутствующих значений"
   ]
  },
  {
   "cell_type": "code",
   "execution_count": null,
   "metadata": {},
   "outputs": [],
   "source": [
    "from tf.keras.layers import Masking\n",
    "\n",
    "n_timesteps = 10\n",
    "# define model\n",
    "model = Sequential()\n",
    "model.add(Masking(mask_value=-1, input_shape=(2, 1)))\n",
    "model.add(LSTM(5))\n",
    "model.add(Dense(1))\n",
    "model.compile(loss='mean_squared_error', optimizer='adam')\n",
    "# fit model\n",
    "for i in range(500):\n",
    "\tX, y = generate_data(n_timesteps)\n",
    "\tmodel.fit(X, y, epochs=1, batch_size=1, verbose=2)\n",
    "# evaluate model on new data\n",
    "X, y = generate_data(n_timesteps)\n",
    "yhat = model.predict(X)\n",
    "for i in range(len(X)):\n",
    "\tprint('Expected', y[i,0], 'Predicted', yhat[i,0])"
   ]
  }
 ],
 "metadata": {
  "interpreter": {
   "hash": "073425a53dc9f576bec0cf2be1d8aa42855c2ffba435afe8e687f916b6655d7d"
  },
  "kernelspec": {
   "display_name": "Python 3.9.7 64-bit ('ML': conda)",
   "name": "python3"
  },
  "language_info": {
   "codemirror_mode": {
    "name": "ipython",
    "version": 3
   },
   "file_extension": ".py",
   "mimetype": "text/x-python",
   "name": "python",
   "nbconvert_exporter": "python",
   "pygments_lexer": "ipython3",
   "version": "3.9.7"
  },
  "orig_nbformat": 4
 },
 "nbformat": 4,
 "nbformat_minor": 2
}
